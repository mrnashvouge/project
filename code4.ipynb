{
 "cells": [
  {
   "cell_type": "code",
   "execution_count": null,
   "metadata": {},
   "outputs": [],
   "source": [
    "import xlsxwriter\n",
    "\n",
    "workbook = xlsxwriter.Workbook('arrays.xlsx')\n",
    "worksheet = workbook.add_worksheet()\n",
    "\n",
    "array=[[18.10785, 97.72503], [18.11731, 97.89817], [18.13724, 97.89046], [18.13945, 97.89014], [18.16527, 97.78119], [18.16617, 97.78114], [18.30159, 97.65957], [18.30234, 97.65954], [18.30325, 97.65248], [18.30788, 97.53854], [18.30964, 97.66743], [18.31261, 97.72883], [18.3137, 97.72917], [18.31411, 97.66734], [18.31548, 97.67458], [18.36687, 97.68045], [18.41278, 97.67687], [18.42541, 97.68524]]\n",
    "row = 0\n",
    "\n",
    "for col, data in enumerate(array):\n",
    "    worksheet.write_column(row, col, data)\n",
    "\n",
    "workbook.close()"
   ]
  }
 ],
 "metadata": {
  "kernelspec": {
   "display_name": "Python 3",
   "language": "python",
   "name": "python3"
  },
  "language_info": {
   "codemirror_mode": {
    "name": "ipython",
    "version": 3
   },
   "file_extension": ".py",
   "mimetype": "text/x-python",
   "name": "python",
   "nbconvert_exporter": "python",
   "pygments_lexer": "ipython3",
   "version": "3.7.4"
  }
 },
 "nbformat": 4,
 "nbformat_minor": 2
}
